{
 "cells": [
  {
   "cell_type": "markdown",
   "metadata": {},
   "source": [
    "# Aula 1"
   ]
  },
  {
   "cell_type": "markdown",
   "metadata": {},
   "source": [
    "Nesta aula apresentaremos noções básicas da linguagem Scala. Nos exemplos abaixo, abordaremos:\n",
    "* Valores e Variáveis\n",
    "* Tipos\n",
    "* Controle de fluxo\n",
    "* Loops\n",
    "* Funções\n",
    "* Objetos\n",
    "* Classes"
   ]
  },
  {
   "cell_type": "markdown",
   "metadata": {},
   "source": [
    "Para espantar a má sorte, comecemos com o básico:"
   ]
  },
  {
   "cell_type": "code",
   "execution_count": 2,
   "metadata": {},
   "outputs": [
    {
     "name": "stdout",
     "output_type": "stream",
     "text": [
      "Olá Mundo!"
     ]
    }
   ],
   "source": [
    "print(\"Olá Mundo!\")"
   ]
  },
  {
   "cell_type": "markdown",
   "metadata": {},
   "source": [
    "## Valores e Variáveis\n",
    "---\n",
    "Em Scala, nós podemos armazenar informações em valores e variáveis."
   ]
  },
  {
   "cell_type": "markdown",
   "metadata": {},
   "source": [
    "### Valores\n",
    "Valores são informações imutáveis, ou seja, constantes. No exemplo abaixo, criamos um valor e atribuímos **10** a ele:"
   ]
  },
  {
   "cell_type": "code",
   "execution_count": 3,
   "metadata": {},
   "outputs": [
    {
     "data": {
      "text/plain": [
       "\u001b[36mvalor\u001b[39m: \u001b[32mInt\u001b[39m = \u001b[32m10\u001b[39m"
      ]
     },
     "execution_count": 3,
     "metadata": {},
     "output_type": "execute_result"
    }
   ],
   "source": [
    "val valor = 10"
   ]
  },
  {
   "cell_type": "markdown",
   "metadata": {},
   "source": [
    "Como valores são imutáveis, não podemos realizar uma segunda atribuição nele. Quando tentamos atribuir uma nova informação, obtemos o erro de *reassigment to val*:"
   ]
  },
  {
   "cell_type": "code",
   "execution_count": 3,
   "metadata": {},
   "outputs": [
    {
     "name": "stderr",
     "output_type": "stream",
     "text": [
      "cmd3.sc:1: reassignment to val\n",
      "val res3 = valor = 20\n",
      "                 ^Compilation Failed"
     ]
    },
    {
     "ename": "",
     "evalue": "",
     "output_type": "error",
     "traceback": [
      "Compilation Failed"
     ]
    }
   ],
   "source": [
    "valor = 20"
   ]
  },
  {
   "cell_type": "markdown",
   "metadata": {},
   "source": [
    "### Variáveis\n",
    "Variáveis são informações mutáveis, ou seja, como o próprio nome sugere, variáveis. No exemplo abaixo, criamos uma variável e atribuímos **10** a ela:"
   ]
  },
  {
   "cell_type": "code",
   "execution_count": 4,
   "metadata": {},
   "outputs": [
    {
     "data": {
      "text/html": [
       "<div class=\"jp-RenderedText\">\n",
       "<pre><span class=\"ansi-cyan-fg\">variavel</span>: <span class=\"ansi-green-fg\">Int</span> = <style>@keyframes fadein { from { opacity: 0; } to { opacity: 1; } }</style><span style=\"animation: fadein 2s;\"><span class=\"ansi-green-fg\">20</span></span></pre>\n",
       "</div>"
      ],
      "text/plain": [
       "\u001b[36mvariavel\u001b[39m: \u001b[32mInt\u001b[39m = \u001b[32m20\u001b[39m"
      ]
     },
     "metadata": {},
     "output_type": "display_data"
    }
   ],
   "source": [
    "var variavel = 10"
   ]
  },
  {
   "cell_type": "markdown",
   "metadata": {},
   "source": [
    "Diferente dos valores, podemos alterar a informação da variável:"
   ]
  },
  {
   "cell_type": "code",
   "execution_count": 5,
   "metadata": {},
   "outputs": [
    {
     "name": "stdout",
     "output_type": "stream",
     "text": [
      "20"
     ]
    }
   ],
   "source": [
    "variavel = 20\n",
    "print(variavel)"
   ]
  },
  {
   "cell_type": "markdown",
   "metadata": {},
   "source": [
    "Porém, nunca podemos mudar o tipo da variável. Caso o façamos, obtemos um erro de *type mismatch*."
   ]
  },
  {
   "cell_type": "code",
   "execution_count": 5,
   "metadata": {},
   "outputs": [
    {
     "name": "stderr",
     "output_type": "stream",
     "text": [
      "cmd5.sc:1: type mismatch;\n",
      " found   : String(\"string\")\n",
      " required: Int\n",
      "val res5 = variavel = \"string\"\n",
      "                      ^Compilation Failed"
     ]
    },
    {
     "ename": "",
     "evalue": "",
     "output_type": "error",
     "traceback": [
      "Compilation Failed"
     ]
    }
   ],
   "source": [
    "variavel = \"string\""
   ]
  },
  {
   "cell_type": "markdown",
   "metadata": {},
   "source": [
    "Quando vamos atribuir algo a um **val** ou **var**, podemos escrever um bloco de código. Blocos de código podem retornar informações em Scala."
   ]
  },
  {
   "cell_type": "code",
   "execution_count": 6,
   "metadata": {},
   "outputs": [
    {
     "data": {
      "text/plain": [
       "\u001b[36mx\u001b[39m: \u001b[32mInt\u001b[39m = \u001b[32m1\u001b[39m\n",
       "\u001b[36my\u001b[39m: \u001b[32mInt\u001b[39m = \u001b[32m11\u001b[39m"
      ]
     },
     "execution_count": 6,
     "metadata": {},
     "output_type": "execute_result"
    }
   ],
   "source": [
    "val x = 1\n",
    "val y = {\n",
    "    val a = 10\n",
    "    a + x\n",
    "}"
   ]
  },
  {
   "cell_type": "markdown",
   "metadata": {},
   "source": [
    "## Tipos\n",
    "---\n",
    "Assim como Java, Scala possui alguns tipos básicos de informações. Para definir o tipo de um valor ou variável, basta usar a seguinte sintaxe:"
   ]
  },
  {
   "cell_type": "code",
   "execution_count": 7,
   "metadata": {},
   "outputs": [
    {
     "data": {
      "text/html": [
       "<div class=\"jp-RenderedText\">\n",
       "<pre><span class=\"ansi-cyan-fg\">x</span>: <span class=\"ansi-green-fg\">Int</span> = <span class=\"ansi-green-fg\">10</span></pre>\n",
       "</div>"
      ],
      "text/plain": [
       "\u001b[36mx\u001b[39m: \u001b[32mInt\u001b[39m = \u001b[32m10\u001b[39m"
      ]
     },
     "metadata": {},
     "output_type": "display_data"
    }
   ],
   "source": [
    "var x: Int = 10"
   ]
  },
  {
   "cell_type": "markdown",
   "metadata": {},
   "source": [
    "O tipo é definido durante a primeira atribuição. Como em valores realizamos apenas uma atribuição, não é necessário colocar tipo, porém, se quisermos, podemos forçar uma variável a ser de um certo tipo:"
   ]
  },
  {
   "cell_type": "code",
   "execution_count": 7,
   "metadata": {},
   "outputs": [
    {
     "name": "stderr",
     "output_type": "stream",
     "text": [
      "cmd7.sc:2: type mismatch;\n",
      " found   : String(\"string\")\n",
      " required: Int\n",
      "val res7_1 = inteiro = \"string\"\n",
      "                       ^Compilation Failed"
     ]
    },
    {
     "ename": "",
     "evalue": "",
     "output_type": "error",
     "traceback": [
      "Compilation Failed"
     ]
    }
   ],
   "source": [
    "var inteiro: Int\n",
    "inteiro = \"string\""
   ]
  },
  {
   "cell_type": "markdown",
   "metadata": {},
   "source": [
    "Os seguintes tipos são os mais utilizados em Scala:\n",
    "* Int - inteiro\n",
    "* Double - decimal\n",
    "* Boolean - booleano\n",
    "* Char - caractere\n",
    "* String - cadeia de caracteres"
   ]
  },
  {
   "cell_type": "code",
   "execution_count": 8,
   "metadata": {},
   "outputs": [
    {
     "data": {
      "text/plain": [
       "\u001b[36minteiro\u001b[39m: \u001b[32mInt\u001b[39m = \u001b[32m1\u001b[39m\n",
       "\u001b[36mdecimal\u001b[39m: \u001b[32mDouble\u001b[39m = \u001b[32m1.5\u001b[39m\n",
       "\u001b[36mbooleano\u001b[39m: \u001b[32mBoolean\u001b[39m = true\n",
       "\u001b[36mchar\u001b[39m: \u001b[32mChar\u001b[39m = \u001b[32m'c'\u001b[39m\n",
       "\u001b[36mstring\u001b[39m: \u001b[32mString\u001b[39m = \u001b[32m\"string\"\u001b[39m"
      ]
     },
     "execution_count": 8,
     "metadata": {},
     "output_type": "execute_result"
    }
   ],
   "source": [
    "val inteiro = 1\n",
    "val decimal = 1.5\n",
    "val booleano = true\n",
    "val char = 'c'\n",
    "val string = \"string\""
   ]
  },
  {
   "cell_type": "markdown",
   "metadata": {},
   "source": [
    "### O tipo Any\n",
    "Em Scala, existe um tipo que representa qualquer coisa: **Any**. Uma variável desse tipo pode receber qualquer informação."
   ]
  },
  {
   "cell_type": "code",
   "execution_count": null,
   "metadata": {},
   "outputs": [],
   "source": [
    "var any:Any = 1\n",
    "any = 1.5\n",
    "any = true\n",
    "any = 'c'\n",
    "any = \"string\""
   ]
  },
  {
   "cell_type": "markdown",
   "metadata": {},
   "source": [
    "### Arrays\n",
    "Arrays em Scala são, como em Java, vetores de tamanho fixo de um determinado tipo. Podemos declarar um Array das seguintes maneiras:"
   ]
  },
  {
   "cell_type": "code",
   "execution_count": 9,
   "metadata": {},
   "outputs": [
    {
     "data": {
      "text/plain": [
       "\u001b[36mnums\u001b[39m: \u001b[32mArray\u001b[39m[\u001b[32mInt\u001b[39m] = \u001b[33mArray\u001b[39m(\u001b[32m0\u001b[39m, \u001b[32m0\u001b[39m, \u001b[32m0\u001b[39m, \u001b[32m0\u001b[39m, \u001b[32m0\u001b[39m, \u001b[32m0\u001b[39m, \u001b[32m0\u001b[39m, \u001b[32m0\u001b[39m, \u001b[32m0\u001b[39m, \u001b[32m0\u001b[39m)\n",
       "\u001b[36ma\u001b[39m: \u001b[32mArray\u001b[39m[\u001b[32mString\u001b[39m] = \u001b[33mArray\u001b[39m(\n",
       "  \u001b[32mnull\u001b[39m,\n",
       "  \u001b[32mnull\u001b[39m,\n",
       "  \u001b[32mnull\u001b[39m,\n",
       "  \u001b[32mnull\u001b[39m,\n",
       "  \u001b[32mnull\u001b[39m,\n",
       "  \u001b[32mnull\u001b[39m,\n",
       "  \u001b[32mnull\u001b[39m,\n",
       "  \u001b[32mnull\u001b[39m,\n",
       "  \u001b[32mnull\u001b[39m,\n",
       "  \u001b[32mnull\u001b[39m\n",
       ")\n",
       "\u001b[36ms\u001b[39m: \u001b[32mArray\u001b[39m[\u001b[32mString\u001b[39m] = \u001b[33mArray\u001b[39m(\u001b[32m\"Goodbye\"\u001b[39m, \u001b[32m\"World\"\u001b[39m)"
      ]
     },
     "execution_count": 9,
     "metadata": {},
     "output_type": "execute_result"
    }
   ],
   "source": [
    "// Um array de dez inteiros, inicializado com zeros\n",
    "val nums = new Array[Int](10)\n",
    "\n",
    "// Um array de string, inicializado com nulls\n",
    "val a = new Array[String](10)\n",
    "\n",
    "// Podemos também definir um array informando seus conteúdos ao invés de tamanho\n",
    "val s = Array(\"Hello\", \"World\")\n",
    "// OBS: qunado informa-see os elementos do array, não utilizamos new\n",
    "\n",
    "// Em Scala, utilizamos () ao invés de [] para acessar os elementos de um array.\n",
    "s(0) = \"Goodbye\"\n"
   ]
  },
  {
   "cell_type": "markdown",
   "metadata": {},
   "source": [
    "Quando inicializamos um array com mais de um tipo de conteúdo, seu tipo é definido por uma classe mais genérica: "
   ]
  },
  {
   "cell_type": "code",
   "execution_count": 10,
   "metadata": {},
   "outputs": [
    {
     "data": {
      "text/plain": [
       "\u001b[36mnumeros\u001b[39m: \u001b[32mArray\u001b[39m[\u001b[32mDouble\u001b[39m] = \u001b[33mArray\u001b[39m(\u001b[32m1.0\u001b[39m, \u001b[32m2.0\u001b[39m, \u001b[32m0.03\u001b[39m)\n",
       "\u001b[36mmisturado\u001b[39m: \u001b[32mArray\u001b[39m[\u001b[32mAny\u001b[39m] = \u001b[33mArray\u001b[39m(\u001b[32m1\u001b[39m, \u001b[32m'a'\u001b[39m, \u001b[32m2.0\u001b[39m, \u001b[32m\"bc\"\u001b[39m)"
      ]
     },
     "execution_count": 10,
     "metadata": {},
     "output_type": "execute_result"
    }
   ],
   "source": [
    "val numeros = Array(1,2.0,3e-2)\n",
    "\n",
    "val misturado = Array(1,'a',2.0,\"bc\")"
   ]
  },
  {
   "cell_type": "markdown",
   "metadata": {},
   "source": [
    "Para definir arrays multidimensionais, precisamos especificar suas dimensões."
   ]
  },
  {
   "cell_type": "code",
   "execution_count": 11,
   "metadata": {},
   "outputs": [
    {
     "data": {
      "text/plain": [
       "\u001b[36mmatriz2d\u001b[39m: \u001b[32mArray\u001b[39m[\u001b[32mArray\u001b[39m[\u001b[32mInt\u001b[39m]] = \u001b[33mArray\u001b[39m(\u001b[33mArray\u001b[39m(\u001b[32m0\u001b[39m, \u001b[32m0\u001b[39m), \u001b[33mArray\u001b[39m(\u001b[32m0\u001b[39m, \u001b[32m0\u001b[39m))\n",
       "\u001b[36mmatriz3d\u001b[39m: \u001b[32mArray\u001b[39m[\u001b[32mArray\u001b[39m[\u001b[32mArray\u001b[39m[\u001b[32mInt\u001b[39m]]] = \u001b[33mArray\u001b[39m(\n",
       "  \u001b[33mArray\u001b[39m(\u001b[33mArray\u001b[39m(\u001b[32m0\u001b[39m, \u001b[32m0\u001b[39m), \u001b[33mArray\u001b[39m(\u001b[32m0\u001b[39m, \u001b[32m0\u001b[39m)),\n",
       "  \u001b[33mArray\u001b[39m(\u001b[33mArray\u001b[39m(\u001b[32m0\u001b[39m, \u001b[32m0\u001b[39m), \u001b[33mArray\u001b[39m(\u001b[32m0\u001b[39m, \u001b[32m0\u001b[39m))\n",
       ")"
      ]
     },
     "execution_count": 11,
     "metadata": {},
     "output_type": "execute_result"
    }
   ],
   "source": [
    "val matriz2d = Array.ofDim[Int](2,2)\n",
    "val matriz3d = Array.ofDim[Int](2,2,2)"
   ]
  },
  {
   "cell_type": "markdown",
   "metadata": {},
   "source": [
    "## Controle de fluxo\n",
    "---\n",
    "A sintaxe para controle de fluxo é igual a de linguagens como C, C++ e Java."
   ]
  },
  {
   "cell_type": "code",
   "execution_count": 12,
   "metadata": {},
   "outputs": [
    {
     "name": "stdout",
     "output_type": "stream",
     "text": [
      "11 é ímpar"
     ]
    },
    {
     "data": {
      "text/plain": [
       "\u001b[36mx\u001b[39m: \u001b[32mInt\u001b[39m = \u001b[32m11\u001b[39m"
      ]
     },
     "execution_count": 12,
     "metadata": {},
     "output_type": "execute_result"
    }
   ],
   "source": [
    "val x = 11\n",
    "\n",
    "if(x%2==0){\n",
    "    print(x+ \" é par\")\n",
    "}\n",
    "else{\n",
    "    print(x+ \" é ímpar\")\n",
    "}"
   ]
  },
  {
   "cell_type": "markdown",
   "metadata": {},
   "source": [
    "Como Scala é funcional, podemos usar controle de fluxo para retornar valores:"
   ]
  },
  {
   "cell_type": "code",
   "execution_count": 13,
   "metadata": {},
   "outputs": [
    {
     "name": "stdout",
     "output_type": "stream",
     "text": [
      "x é par"
     ]
    },
    {
     "data": {
      "text/html": [
       "<div class=\"jp-RenderedText\">\n",
       "<pre><span class=\"ansi-cyan-fg\">x</span>: <span class=\"ansi-green-fg\">Int</span> = <span class=\"ansi-green-fg\">10</span>\n",
       "<span class=\"ansi-cyan-fg\">paridade</span>: <span class=\"ansi-green-fg\">String</span> = <span class=\"ansi-green-fg\">&quot;par&quot;</span></pre>\n",
       "</div>"
      ],
      "text/plain": [
       "\u001b[36mx\u001b[39m: \u001b[32mInt\u001b[39m = \u001b[32m10\u001b[39m\n",
       "\u001b[36mparidade\u001b[39m: \u001b[32mString\u001b[39m = \u001b[32m\"par\"\u001b[39m"
      ]
     },
     "metadata": {},
     "output_type": "display_data"
    }
   ],
   "source": [
    "val x = 10\n",
    "var paridade = if(x%2==0) \"par\" else \"ímpar\"\n",
    "print(\"x é \"+paridade)"
   ]
  },
  {
   "cell_type": "markdown",
   "metadata": {},
   "source": [
    "## Loops\n",
    "---\n",
    "Loops em Scala são semelhantes à Java. Porém, Scala conta com um loop do tipo **for** mais poderoso que as demais linguagens."
   ]
  },
  {
   "cell_type": "markdown",
   "metadata": {
    "collapsed": true
   },
   "source": [
    "### For\n",
    "Todo **for** em Scala itera alguma sequência. Para percorrer intervalos de valores, podemos utilizar os geradores **until** e **to** ."
   ]
  },
  {
   "cell_type": "code",
   "execution_count": 14,
   "metadata": {},
   "outputs": [
    {
     "name": "stdout",
     "output_type": "stream",
     "text": [
      "for com until\n",
      "1 2 3 4 5 6 7 8 9 \n",
      "\n",
      "for com to\n",
      "1 2 3 4 5 6 7 8 9 10 "
     ]
    }
   ],
   "source": [
    "println(\"for com until\")\n",
    "for(i <- 1 until 10){\n",
    "    print(i+\" \")\n",
    "}\n",
    "\n",
    "println('\\n')\n",
    "\n",
    "println(\"for com to\")\n",
    "for(i <- 1 to 10){\n",
    "    print(i+\" \")\n",
    "}"
   ]
  },
  {
   "cell_type": "markdown",
   "metadata": {},
   "source": [
    "Quando precisamos fazer laços aninhados (um loop dentro de outro) normalmente utilizamos 2 **for** diferentes."
   ]
  },
  {
   "cell_type": "code",
   "execution_count": 15,
   "metadata": {},
   "outputs": [
    {
     "name": "stdout",
     "output_type": "stream",
     "text": [
      "(1,1) (1,2) (1,3) (2,1) (2,2) (2,3) (3,1) (3,2) (3,3) "
     ]
    }
   ],
   "source": [
    "for(i <- 1 to 3)\n",
    "    for(j <- 1 to 3)\n",
    "        print(\"(\"+i+\",\"+j+\") \")"
   ]
  },
  {
   "cell_type": "markdown",
   "metadata": {},
   "source": [
    "Em Scala, podemos usar **for comprehensions**. Em uma única definição de **for** podemos definir a combinação de laços na qual o bloco de comando será executado:"
   ]
  },
  {
   "cell_type": "code",
   "execution_count": 16,
   "metadata": {},
   "outputs": [
    {
     "name": "stdout",
     "output_type": "stream",
     "text": [
      "(1,1) (1,2) (1,3) (2,1) (2,2) (2,3) (3,1) (3,2) (3,3) "
     ]
    }
   ],
   "source": [
    "for{\n",
    "    i <- 1 to 3\n",
    "    j <- 1 to 3\n",
    "}{\n",
    "    print(\"(\"+i+\",\"+j+\") \")\n",
    "}"
   ]
  },
  {
   "cell_type": "markdown",
   "metadata": {},
   "source": [
    "Essa compressão também permite definirmos condições sobre os valores do loop."
   ]
  },
  {
   "cell_type": "code",
   "execution_count": 17,
   "metadata": {},
   "outputs": [
    {
     "name": "stdout",
     "output_type": "stream",
     "text": [
      "(1,1) (1,2) (1,3) (2,2) (2,3) (3,3) "
     ]
    }
   ],
   "source": [
    "for{\n",
    "    i <- 1 to 3\n",
    "    j <- 1 to 3\n",
    "    if(j>=i)\n",
    "}{\n",
    "    print(\"(\"+i+\",\"+j+\") \")\n",
    "}"
   ]
  },
  {
   "cell_type": "markdown",
   "metadata": {},
   "source": [
    "Como o **for** itera sobre uma sequência, podemos fazê-lo iterar sobre um **Array**"
   ]
  },
  {
   "cell_type": "code",
   "execution_count": 18,
   "metadata": {},
   "outputs": [
    {
     "name": "stdout",
     "output_type": "stream",
     "text": [
      "2 4 6 8 "
     ]
    },
    {
     "data": {
      "text/plain": [
       "\u001b[36mpares\u001b[39m: \u001b[32mArray\u001b[39m[\u001b[32mInt\u001b[39m] = \u001b[33mArray\u001b[39m(\u001b[32m2\u001b[39m, \u001b[32m4\u001b[39m, \u001b[32m6\u001b[39m, \u001b[32m8\u001b[39m)"
      ]
     },
     "execution_count": 18,
     "metadata": {},
     "output_type": "execute_result"
    }
   ],
   "source": [
    "val pares = Array(2,4,6,8)\n",
    "\n",
    "for(par <- pares){\n",
    "    print(par+\" \")\n",
    "}"
   ]
  },
  {
   "cell_type": "markdown",
   "metadata": {},
   "source": [
    "#### Gerando arrays com for\n",
    "Como vimos anteriormente, blocos de comando podem gerar valores, desde que estes sejam a última informação do bloco. Scala contém um operador chamado **yield** que permite que o bloco do **for** retorne uma estrutura análoga ao **array**: um **IndexedSeq**. Por hora, podemos tratar essa estrutura como um array."
   ]
  },
  {
   "cell_type": "code",
   "execution_count": 19,
   "metadata": {},
   "outputs": [
    {
     "data": {
      "text/plain": [
       "\u001b[36mpares\u001b[39m: \u001b[32mcollection\u001b[39m.\u001b[32mimmutable\u001b[39m.\u001b[32mIndexedSeq\u001b[39m[\u001b[32mInt\u001b[39m] = \u001b[33mVector\u001b[39m(\u001b[32m0\u001b[39m, \u001b[32m2\u001b[39m, \u001b[32m4\u001b[39m, \u001b[32m6\u001b[39m, \u001b[32m8\u001b[39m, \u001b[32m10\u001b[39m)"
      ]
     },
     "execution_count": 19,
     "metadata": {},
     "output_type": "execute_result"
    }
   ],
   "source": [
    "val pares = for{\n",
    "    i <- 0 to 10\n",
    "    if i%2 == 0\n",
    "} yield {\n",
    "    i\n",
    "}"
   ]
  },
  {
   "cell_type": "markdown",
   "metadata": {},
   "source": [
    "### While\n",
    "Em Scala, o laço do tipo **while** é análogo às outras linguagens:"
   ]
  },
  {
   "cell_type": "code",
   "execution_count": 20,
   "metadata": {},
   "outputs": [
    {
     "name": "stdout",
     "output_type": "stream",
     "text": [
      "1 2 3 4 5 6 7 8 9 10 "
     ]
    },
    {
     "data": {
      "text/html": [
       "<div class=\"jp-RenderedText\">\n",
       "<pre><span class=\"ansi-cyan-fg\">i</span>: <span class=\"ansi-green-fg\">Int</span> = <span class=\"ansi-green-fg\">11</span></pre>\n",
       "</div>"
      ],
      "text/plain": [
       "\u001b[36mi\u001b[39m: \u001b[32mInt\u001b[39m = \u001b[32m11\u001b[39m"
      ]
     },
     "metadata": {},
     "output_type": "display_data"
    }
   ],
   "source": [
    "var i = 1\n",
    "while(i<=10){\n",
    "    print(i+\" \")\n",
    "    i = i + 1\n",
    "}"
   ]
  },
  {
   "cell_type": "markdown",
   "metadata": {},
   "source": [
    "### Do While\n",
    "Assim como o **while**, o laço do tipo **do while** é análogo às outras linguagens:"
   ]
  },
  {
   "cell_type": "code",
   "execution_count": 21,
   "metadata": {},
   "outputs": [
    {
     "name": "stdout",
     "output_type": "stream",
     "text": [
      "0 1 2 3 4 5 6 7 8 9 "
     ]
    },
    {
     "data": {
      "text/html": [
       "<div class=\"jp-RenderedText\">\n",
       "<pre><span class=\"ansi-cyan-fg\">i</span>: <span class=\"ansi-green-fg\">Int</span> = <span class=\"ansi-green-fg\">10</span></pre>\n",
       "</div>"
      ],
      "text/plain": [
       "\u001b[36mi\u001b[39m: \u001b[32mInt\u001b[39m = \u001b[32m10\u001b[39m"
      ]
     },
     "metadata": {},
     "output_type": "display_data"
    }
   ],
   "source": [
    "var i = 0\n",
    "do {\n",
    "    print(i+\" \")\n",
    "    i = i+1\n",
    "}while(i<10)"
   ]
  },
  {
   "cell_type": "markdown",
   "metadata": {
    "collapsed": true
   },
   "source": [
    "## Funções\n",
    "---\n",
    "Em Scala, diferente de Java, além de métodos nós temos **funções**. A lógica para definir uma função é simples:\n",
    "começamos com **def** seguido pelo nome da função, em seguida apresentamos os **parâmetros** e seus **tipos** e, por fim, o **tipo do retorno** da função."
   ]
  },
  {
   "cell_type": "code",
   "execution_count": 22,
   "metadata": {},
   "outputs": [
    {
     "name": "stdout",
     "output_type": "stream",
     "text": [
      "11"
     ]
    },
    {
     "data": {
      "text/plain": [
       "defined \u001b[32mfunction\u001b[39m \u001b[36msoma1\u001b[39m"
      ]
     },
     "execution_count": 22,
     "metadata": {},
     "output_type": "execute_result"
    }
   ],
   "source": [
    "def soma1(x: Int): Int = {\n",
    "    return x + 1\n",
    "}\n",
    "\n",
    "print(soma1(10))"
   ]
  },
  {
   "cell_type": "markdown",
   "metadata": {},
   "source": [
    "### Particularidades:"
   ]
  },
  {
   "cell_type": "markdown",
   "metadata": {},
   "source": [
    "Uma função que não tem retorno é do tipo **Unit** (semelhante ao **void** em Java)."
   ]
  },
  {
   "cell_type": "code",
   "execution_count": 23,
   "metadata": {},
   "outputs": [
    {
     "name": "stdout",
     "output_type": "stream",
     "text": [
      "10\n"
     ]
    },
    {
     "data": {
      "text/plain": [
       "defined \u001b[32mfunction\u001b[39m \u001b[36mmostra\u001b[39m"
      ]
     },
     "execution_count": 23,
     "metadata": {},
     "output_type": "execute_result"
    }
   ],
   "source": [
    "def mostra(x: Any): Unit = {\n",
    "    println(x)\n",
    "}\n",
    "\n",
    "mostra(10)"
   ]
  },
  {
   "cell_type": "markdown",
   "metadata": {},
   "source": [
    "Assim como em estruturas de controle e laços, não precisamos colocar o código da função entre parênteses quando for uma função de apenas uma linha de código."
   ]
  },
  {
   "cell_type": "code",
   "execution_count": 24,
   "metadata": {},
   "outputs": [
    {
     "name": "stdout",
     "output_type": "stream",
     "text": [
      "11"
     ]
    },
    {
     "data": {
      "text/plain": [
       "defined \u001b[32mfunction\u001b[39m \u001b[36msoma1\u001b[39m"
      ]
     },
     "execution_count": 24,
     "metadata": {},
     "output_type": "execute_result"
    }
   ],
   "source": [
    "def soma1(x: Int): Int = return x+1\n",
    "print(soma1(10))"
   ]
  },
  {
   "cell_type": "markdown",
   "metadata": {},
   "source": [
    "Não precisamos utilizar **return** para retornar um valor, basta que esse valor seja escrito no fim da função."
   ]
  },
  {
   "cell_type": "code",
   "execution_count": 25,
   "metadata": {},
   "outputs": [
    {
     "name": "stdout",
     "output_type": "stream",
     "text": [
      "11"
     ]
    },
    {
     "data": {
      "text/plain": [
       "defined \u001b[32mfunction\u001b[39m \u001b[36msoma1\u001b[39m"
      ]
     },
     "execution_count": 25,
     "metadata": {},
     "output_type": "execute_result"
    }
   ],
   "source": [
    "def soma1(x: Int): Int = x+1\n",
    "print(soma1(10))"
   ]
  },
  {
   "cell_type": "markdown",
   "metadata": {},
   "source": [
    "Não precisamos determinar o tipo do retorno de uma função, pois o compilador é capaz de inferir esse tipo. "
   ]
  },
  {
   "cell_type": "code",
   "execution_count": 26,
   "metadata": {},
   "outputs": [
    {
     "name": "stdout",
     "output_type": "stream",
     "text": [
      "11"
     ]
    },
    {
     "data": {
      "text/plain": [
       "defined \u001b[32mfunction\u001b[39m \u001b[36msoma1\u001b[39m"
      ]
     },
     "execution_count": 26,
     "metadata": {},
     "output_type": "execute_result"
    }
   ],
   "source": [
    "def soma1(x: Int) = x+1\n",
    "print(soma1(10))"
   ]
  },
  {
   "cell_type": "markdown",
   "metadata": {},
   "source": [
    "Quando uma função pode ter mais de um tipo de retorno, o compilador define o retorno da função como um tipo intermediário."
   ]
  },
  {
   "cell_type": "code",
   "execution_count": 27,
   "metadata": {},
   "outputs": [
    {
     "data": {
      "text/plain": [
       "defined \u001b[32mfunction\u001b[39m \u001b[36mf\u001b[39m\n",
       "\u001b[36mx\u001b[39m: \u001b[32mDouble\u001b[39m = \u001b[32m0.0\u001b[39m\n",
       "\u001b[36my\u001b[39m: \u001b[32mDouble\u001b[39m = \u001b[32m1.0\u001b[39m"
      ]
     },
     "execution_count": 27,
     "metadata": {},
     "output_type": "execute_result"
    }
   ],
   "source": [
    "def f(x: Int) = if(x>0) 1 else 0.0\n",
    "\n",
    "val x = f(0)\n",
    "val y = f(1)"
   ]
  },
  {
   "cell_type": "code",
   "execution_count": 28,
   "metadata": {},
   "outputs": [
    {
     "data": {
      "text/plain": [
       "defined \u001b[32mfunction\u001b[39m \u001b[36mf\u001b[39m\n",
       "\u001b[36mx\u001b[39m: \u001b[32mAny\u001b[39m = \u001b[32m\"menor ou igual \\u00e0 0\"\u001b[39m\n",
       "\u001b[36my\u001b[39m: \u001b[32mAny\u001b[39m = \u001b[32m1\u001b[39m"
      ]
     },
     "execution_count": 28,
     "metadata": {},
     "output_type": "execute_result"
    }
   ],
   "source": [
    "def f(x: Int) = if(x>0) 1 else \"menor ou igual à 0\"\n",
    "\n",
    "val x = f(0)\n",
    "val y = f(1)"
   ]
  },
  {
   "cell_type": "markdown",
   "metadata": {},
   "source": [
    "Em **funções recursivas**, é **necessário** definir o tipo, pois é uma operação muito custosa inferir todas as possibilidades de retorno de uma função recursiva."
   ]
  },
  {
   "cell_type": "code",
   "execution_count": 42,
   "metadata": {},
   "outputs": [
    {
     "name": "stderr",
     "output_type": "stream",
     "text": [
      "cmd42.sc:4: recursive method mostraRecursivo needs result type\n",
      "        mostraRecursivo(x-1)\n",
      "        ^Compilation Failed"
     ]
    },
    {
     "ename": "",
     "evalue": "",
     "output_type": "error",
     "traceback": [
      "Compilation Failed"
     ]
    }
   ],
   "source": [
    "def mostraRecursivo(x: Int) = {\n",
    "    if(x>0){\n",
    "        print(x+\", \")\n",
    "        mostraRecursivo(x-1)\n",
    "    }\n",
    "    else print(x)\n",
    "}\n",
    "\n",
    "mostraRecursivo(10)"
   ]
  },
  {
   "cell_type": "code",
   "execution_count": 43,
   "metadata": {},
   "outputs": [
    {
     "name": "stdout",
     "output_type": "stream",
     "text": [
      "10, 9, 8, 7, 6, 5, 4, 3, 2, 1, 0"
     ]
    },
    {
     "data": {
      "text/plain": [
       "defined \u001b[32mfunction\u001b[39m \u001b[36mmostraRecursivo\u001b[39m"
      ]
     },
     "execution_count": 43,
     "metadata": {},
     "output_type": "execute_result"
    }
   ],
   "source": [
    "def mostraRecursivo(x: Int): Unit = {\n",
    "    if(x>0){\n",
    "        print(x+\", \")\n",
    "        mostraRecursivo(x-1)\n",
    "    }\n",
    "    else print(x)\n",
    "}\n",
    "\n",
    "mostraRecursivo(10)"
   ]
  },
  {
   "cell_type": "markdown",
   "metadata": {},
   "source": [
    "## Objetos\n",
    "---\n",
    "Um objeto é uma estrutura que carrega consigo informações(atributos) e comportamentos(métodos). Objetos são únicos e não podem ser sobrescritos.\n",
    "\n",
    "Podemos escrever um objeto em Scala como um código qualquer. Nesse código:\n",
    "* as variáveis e os valores são atributos\n",
    "* as funções são métodos\n",
    "\n",
    "Para definir um objeto em Scala basta utilizar a seguinte sintaxe:"
   ]
  },
  {
   "cell_type": "code",
   "execution_count": 44,
   "metadata": {},
   "outputs": [
    {
     "name": "stdout",
     "output_type": "stream",
     "text": [
      "10\n",
      "9\n",
      "8\n",
      "10\n"
     ]
    },
    {
     "data": {
      "text/plain": [
       "defined \u001b[32mobject\u001b[39m \u001b[36mContador\u001b[39m"
      ]
     },
     "execution_count": 44,
     "metadata": {},
     "output_type": "execute_result"
    }
   ],
   "source": [
    "object Contador{ //nome do objeto\n",
    "    \n",
    "    var numero = 10 //um atributo que carrega a informação de um número inteiro\n",
    "    \n",
    "    def valor = numero //um método que retorna o valor de \"numero\"\n",
    "    \n",
    "    def tick = { //um método que decrementa o valor de número\n",
    "        numero -= 1\n",
    "    }\n",
    "    \n",
    "    def reset = { //um método que reseta o valor de \"numero\" para 10 \n",
    "        numero = 10\n",
    "    }\n",
    "}\n",
    "\n",
    "println(Contador.valor)\n",
    "Contador.tick\n",
    "println(Contador.valor)\n",
    "Contador.tick\n",
    "println(Contador.valor)\n",
    "\n",
    "Contador.reset\n",
    "println(Contador.valor)"
   ]
  },
  {
   "cell_type": "markdown",
   "metadata": {},
   "source": [
    "## Classes\n",
    "---\n",
    "Grupo de objetos com os **mesmos atributos** e os **mesmos comportamentos** pertencem à mesma classe.\n",
    "\n",
    "Diferente de um objeto, uma classe **precisa** ser atribuída a um valor ou variável para poder ser utilizada.\n",
    "\n",
    "Criar uma classe em Scala é bastante similar à criação de classes em outras python:"
   ]
  },
  {
   "cell_type": "code",
   "execution_count": 45,
   "metadata": {},
   "outputs": [
    {
     "name": "stdout",
     "output_type": "stream",
     "text": [
      "Mario\n",
      "060.000.000-00\n"
     ]
    },
    {
     "data": {
      "text/plain": [
       "defined \u001b[32mclass\u001b[39m \u001b[36mPessoa\u001b[39m\n",
       "\u001b[36mmario\u001b[39m: \u001b[32mPessoa\u001b[39m = ammonite.$sess.cmd44$Helper$Pessoa@2a6eecc1"
      ]
     },
     "execution_count": 45,
     "metadata": {},
     "output_type": "execute_result"
    }
   ],
   "source": [
    "class Pessoa {\n",
    "    var nome: String = null\n",
    "    var cpf: String = null\n",
    "}\n",
    "\n",
    "val mario = new Pessoa\n",
    "\n",
    "mario.nome = \"Mario\"\n",
    "mario.cpf = \"060.000.000-00\"\n",
    "\n",
    "println(mario.nome)\n",
    "println(mario.cpf)"
   ]
  },
  {
   "cell_type": "markdown",
   "metadata": {},
   "source": [
    "**OBS**: Por padrão, todos os métodos e atributos de uma classe em Scala são **públicos**. Para defini-los como privados, basta utilizar o modificador **private**\n",
    "\n",
    "**OBS2**: Atributos definidos como **val** são apenas para **leitura**, enquanto os definidos como **var** são para **leitura e escrita**"
   ]
  },
  {
   "cell_type": "markdown",
   "metadata": {},
   "source": [
    "### Representando uma instância como string\n",
    "\n",
    "Podemos definir um método chamado **toString** para que, quando chamarmos a função *print*, seja feita uma apresentação mais legível do objeto instanciado.\n",
    "\n",
    "Para implementar esse método em Scala, precisamos fazer uma **sobrescrita**, tendo de adicionar o modificador **override** antes do nome do método."
   ]
  },
  {
   "cell_type": "code",
   "execution_count": 46,
   "metadata": {},
   "outputs": [
    {
     "name": "stdout",
     "output_type": "stream",
     "text": [
      "Nome: Mário, CPF: Não cadastrado"
     ]
    },
    {
     "data": {
      "text/plain": [
       "defined \u001b[32mclass\u001b[39m \u001b[36mPessoa\u001b[39m\n",
       "\u001b[36mmario\u001b[39m: \u001b[32mPessoa\u001b[39m = Nome: Mário, CPF: Não cadastrado"
      ]
     },
     "execution_count": 46,
     "metadata": {},
     "output_type": "execute_result"
    }
   ],
   "source": [
    "class Pessoa(nome: String, cpf: String){\n",
    "    def this(nome: String) = this(nome, \"Não cadastrado\")\n",
    "    \n",
    "    def getNome = nome\n",
    "    def getCPF = cpf\n",
    "    \n",
    "    override def toString = \"Nome: \"+nome+\", CPF: \"+cpf\n",
    "}\n",
    "\n",
    "val mario = new Pessoa(\"Mário\")\n",
    "print(mario)"
   ]
  },
  {
   "cell_type": "markdown",
   "metadata": {},
   "source": [
    "### Operadores\n",
    "\n",
    "Scala permite a definição de operações entre instâncias da classe e outros objetos. Em Scala, todas as informações são objetos e suas operações são chamadas de métodos:"
   ]
  },
  {
   "cell_type": "code",
   "execution_count": 47,
   "metadata": {},
   "outputs": [
    {
     "name": "stdout",
     "output_type": "stream",
     "text": [
      "20\n",
      "20\n"
     ]
    },
    {
     "data": {
      "text/plain": [
       "\u001b[36mx\u001b[39m: \u001b[32mInt\u001b[39m = \u001b[32m10\u001b[39m"
      ]
     },
     "execution_count": 47,
     "metadata": {},
     "output_type": "execute_result"
    }
   ],
   "source": [
    "val x = 10\n",
    "\n",
    "//podemos chamar um método como uma operação, usando uma notação mais limpa\n",
    "println(x + 10)\n",
    "//e podemos também chamar um método pela notação padrão, utilizando ponto + nome do método + argumentos\n",
    "println(x.+(10))"
   ]
  },
  {
   "cell_type": "markdown",
   "metadata": {},
   "source": [
    "Para exemplificar o uso de operadores, vamos definir uma classe que representa os números Racionais em forma de fração, definindo métodos que nos permitem operar entre eles:"
   ]
  },
  {
   "cell_type": "code",
   "execution_count": 48,
   "metadata": {},
   "outputs": [
    {
     "name": "stdout",
     "output_type": "stream",
     "text": [
      "soma: 5/6\n",
      "subtração: 1/6\n"
     ]
    },
    {
     "data": {
      "text/plain": [
       "defined \u001b[32mclass\u001b[39m \u001b[36mRacional\u001b[39m\n",
       "\u001b[36mmetade\u001b[39m: \u001b[32mRacional\u001b[39m = 1/2\n",
       "\u001b[36mterco\u001b[39m: \u001b[32mRacional\u001b[39m = 1/3"
      ]
     },
     "execution_count": 48,
     "metadata": {},
     "output_type": "execute_result"
    }
   ],
   "source": [
    "class Racional(n: Int, d: Int){\n",
    "    //declaramos essas variáveis para tornar essas informações como públicas\n",
    "    //utilizamos val para evitar sobrescrita\n",
    "    val numerador = n\n",
    "    val denominador = d    \n",
    "    \n",
    "    def somar(b: Racional): Racional = \n",
    "        new Racional(numerador*b.denominador + b.numerador * denominador, denominador*b.denominador)\n",
    "    \n",
    "    def subtrair(b: Racional): Racional = \n",
    "        new Racional(numerador*b.denominador - b.numerador * denominador, denominador*b.denominador)\n",
    "    \n",
    "    override def toString: String = numerador.toString+\"/\"+denominador.toString\n",
    "}\n",
    "\n",
    "val metade = new Racional(1,2)\n",
    "val terco = new Racional(1,3)\n",
    "\n",
    "println(\"soma: \"+metade.somar(terco))\n",
    "println(\"subtração: \"+metade.subtrair(terco))"
   ]
  },
  {
   "cell_type": "markdown",
   "metadata": {},
   "source": [
    "Podemos reescrever esses métodos como os seguintes operadores: + e -:"
   ]
  },
  {
   "cell_type": "code",
   "execution_count": 49,
   "metadata": {},
   "outputs": [
    {
     "name": "stdout",
     "output_type": "stream",
     "text": [
      "soma: 5/6\n",
      "subtração: 1/6\n"
     ]
    },
    {
     "data": {
      "text/plain": [
       "defined \u001b[32mclass\u001b[39m \u001b[36mRacional\u001b[39m\n",
       "\u001b[36mmetade\u001b[39m: \u001b[32mRacional\u001b[39m = 1/2\n",
       "\u001b[36mterco\u001b[39m: \u001b[32mRacional\u001b[39m = 1/3"
      ]
     },
     "execution_count": 49,
     "metadata": {},
     "output_type": "execute_result"
    }
   ],
   "source": [
    "class Racional(n: Int, d: Int){\n",
    "    //declaramos essas variáveis para tornar essas informações como públicas\n",
    "    //utilizamos val para evitar sobrescrita\n",
    "    val numerador = n\n",
    "    val denominador = d    \n",
    "    \n",
    "    def + (b: Racional): Racional = \n",
    "        new Racional(numerador*b.denominador + b.numerador * denominador, denominador*b.denominador)\n",
    "    \n",
    "    def - (b: Racional): Racional = \n",
    "        new Racional(numerador*b.denominador - b.numerador * denominador, denominador*b.denominador)\n",
    "    \n",
    "    override def toString: String = numerador.toString+\"/\"+denominador.toString\n",
    "}\n",
    "\n",
    "val metade = new Racional(1,2)\n",
    "val terco = new Racional(1,3)\n",
    "\n",
    "println(\"soma: \"+(metade + terco))\n",
    "println(\"subtração: \"+(metade - terco))"
   ]
  },
  {
   "cell_type": "markdown",
   "metadata": {},
   "source": [
    "## Exercícios\n",
    "---"
   ]
  },
  {
   "cell_type": "markdown",
   "metadata": {},
   "source": [
    "### 0. Escreva uma função (de preferência, recursiva) qie receba um inteiro n e retorne o seu fatorial"
   ]
  },
  {
   "cell_type": "code",
   "execution_count": 40,
   "metadata": {},
   "outputs": [
    {
     "data": {
      "text/plain": [
       "defined \u001b[32mfunction\u001b[39m \u001b[36mfatorial\u001b[39m\n",
       "\u001b[36mres39_1\u001b[39m: \u001b[32mInt\u001b[39m = \u001b[32m24\u001b[39m"
      ]
     },
     "execution_count": 40,
     "metadata": {},
     "output_type": "execute_result"
    }
   ],
   "source": [
    "def fatorial(x: Int): Int = {\n",
    "    if(x==0){\n",
    "        1\n",
    "    }\n",
    "    else {\n",
    "        x*fatorial(x-1)\n",
    "    }\n",
    "}\n",
    "\n",
    "fatorial(4)"
   ]
  },
  {
   "cell_type": "markdown",
   "metadata": {},
   "source": [
    "### 1. Escreva uma função (de preferência, recursiva) que receba um inteiro n retorna o *n-ésimo* número de Fibonnaci"
   ]
  },
  {
   "cell_type": "code",
   "execution_count": 42,
   "metadata": {},
   "outputs": [
    {
     "data": {
      "text/plain": [
       "defined \u001b[32mfunction\u001b[39m \u001b[36mfibonacci\u001b[39m\n",
       "\u001b[36mres41_1\u001b[39m: \u001b[32mInt\u001b[39m = \u001b[32m55\u001b[39m"
      ]
     },
     "execution_count": 42,
     "metadata": {},
     "output_type": "execute_result"
    }
   ],
   "source": [
    "def fibonacci(x: Int): Int = {\n",
    "    \n",
    "    if(x==1 || x == 2) {\n",
    "        1\n",
    "    } else {\n",
    "        fibonacci(x-1) + fibonacci(x-2)\n",
    "    }\n",
    "    \n",
    "}\n",
    "\n",
    "fibonacci(10)"
   ]
  },
  {
   "cell_type": "markdown",
   "metadata": {},
   "source": [
    "### 2. Escreva uma função que gere todas as peças de um Dominó"
   ]
  },
  {
   "cell_type": "code",
   "execution_count": 53,
   "metadata": {},
   "outputs": [
    {
     "name": "stdout",
     "output_type": "stream",
     "text": [
      "(0,0) (0,1) (0,2) (0,3) (0,4) (0,5) (0,6) (1,1) (1,2) (1,3) (1,4) (1,5) (1,6) (2,2) (2,3) (2,4) (2,5) (2,6) (3,3) (3,4) (3,5) (3,6) (4,4) (4,5) (4,6) (5,5) (5,6) (6,6) "
     ]
    },
    {
     "data": {
      "text/plain": [
       "defined \u001b[32mfunction\u001b[39m \u001b[36mdomino\u001b[39m\n",
       "\u001b[36mres52_1\u001b[39m: \u001b[32mAny\u001b[39m = ()"
      ]
     },
     "execution_count": 53,
     "metadata": {},
     "output_type": "execute_result"
    }
   ],
   "source": [
    "def domino(): Any = {\n",
    "    for{\n",
    "        i <- 0 to 6\n",
    "        j <- i to 6\n",
    "    }{\n",
    "        print(\"(\"+i+\",\"+j+\") \")\n",
    "    }\n",
    "}\n",
    "\n",
    "domino()"
   ]
  },
  {
   "cell_type": "markdown",
   "metadata": {},
   "source": [
    "### 3. Escreva uma classe que represente uma matriz m x n que tenha os seguintes métodos:\n",
    "\n",
    "* Criar uma matriz informando suas dimensões (m x n);\n",
    "* Acessar o elemento da matriz dada uma coordenada;\n",
    "* Alterar o elemento da matriz dada uma coordenada;\n",
    "* Imprimir a matriz na tela\n",
    "\n",
    "### Implemente também as seguintes operações:\n",
    "\n",
    "* Soma\n",
    "* Subtração"
   ]
  },
  {
   "cell_type": "code",
   "execution_count": 96,
   "metadata": {
    "scrolled": true
   },
   "outputs": [
    {
     "data": {
      "text/plain": [
       "defined \u001b[32mclass\u001b[39m \u001b[36mMatriz\u001b[39m\n",
       "\u001b[36mm1\u001b[39m: \u001b[32mMatriz\u001b[39m = \n",
       "01\n",
       "23\n",
       "\u001b[36mm2\u001b[39m: \u001b[32mMatriz\u001b[39m = \n",
       "32\n",
       "10\n",
       "\u001b[36mres95_11\u001b[39m: \u001b[32mMatriz\u001b[39m = \n",
       "33\n",
       "33\n",
       "\u001b[36mres95_12\u001b[39m: \u001b[32mMatriz\u001b[39m = \n",
       "31\n",
       "-1-3"
      ]
     },
     "execution_count": 96,
     "metadata": {},
     "output_type": "execute_result"
    }
   ],
   "source": [
    "class Matriz(m: Int, n: Int) {\n",
    "\n",
    "    val linhas = m\n",
    "    val colunas = n\n",
    "\n",
    "    var matriz = Array.ofDim[Int](linhas, colunas)\n",
    "\n",
    "    def get(linha: Int, coluna: Int): Int = return matriz(linha)(coluna)\n",
    "\n",
    "    def set(linha: Int, coluna: Int, valor: Int) = {matriz(linha)(coluna) = valor}\n",
    "    \n",
    "    def + (b: Matriz): Matriz = {\n",
    "        var resultado = new Matriz(linhas, colunas)\n",
    "        for{\n",
    "            i <- 0 to linhas-1\n",
    "            j <- 0 to colunas-1\n",
    "        } {\n",
    "            resultado.set(i, j, b.get(i,j)+matriz(i)(j))\n",
    "        }\n",
    "        \n",
    "        return resultado\n",
    "    }\n",
    "    \n",
    "    def - (b: Matriz): Matriz = {\n",
    "        var resultado = new Matriz(linhas, colunas)\n",
    "        for{\n",
    "            i <- 0 to linhas-1\n",
    "            j <- 0 to colunas-1\n",
    "        } {\n",
    "            resultado.set(i, j, b.get(i,j)-matriz(i)(j))\n",
    "        }\n",
    "        \n",
    "        return resultado\n",
    "    }\n",
    "        \n",
    "    override def toString = {\n",
    "        var s = \"\"\n",
    "        for(i <- 0 to linhas-1) {\n",
    "            s += \"\\n\"\n",
    "            for(j <- 0 to colunas-1) {\n",
    "              s += this.get(i,j)\n",
    "            }\n",
    "        }\n",
    "        s\n",
    "    }\n",
    "}\n",
    "\n",
    "val m1 = new Matriz(2,2)\n",
    "m1.set(0,0,0)\n",
    "m1.set(0,1,1)\n",
    "m1.set(1,0,2)\n",
    "m1.set(1,1,3)\n",
    "\n",
    "val m2 = new Matriz(2,2)\n",
    "m2.set(0,0,3)\n",
    "m2.set(0,1,2)\n",
    "m2.set(1,0,1)\n",
    "m2.set(1,1,0)\n",
    "\n",
    "m1+m2\n",
    "m1-m2"
   ]
  },
  {
   "cell_type": "markdown",
   "metadata": {},
   "source": [
    "### 4. Crie um Object para gerar matrizes preenchidas automaticamente (como a matriz identidate, matriz diagonal, etc.)"
   ]
  },
  {
   "cell_type": "code",
   "execution_count": 133,
   "metadata": {},
   "outputs": [
    {
     "name": "stdout",
     "output_type": "stream",
     "text": [
      "O tamanho do array é: 5"
     ]
    },
    {
     "data": {
      "text/plain": [
       "defined \u001b[32mobject\u001b[39m \u001b[36mMatrizHelper\u001b[39m\n",
       "\u001b[36mres132_1\u001b[39m: \u001b[32mMatriz\u001b[39m = \n",
       "10000\n",
       "01000\n",
       "00100\n",
       "00010\n",
       "00001\n",
       "\u001b[36ms\u001b[39m: \u001b[32mArray\u001b[39m[\u001b[32mInt\u001b[39m] = \u001b[33mArray\u001b[39m(\u001b[32m1\u001b[39m, \u001b[32m2\u001b[39m, \u001b[32m5\u001b[39m, \u001b[32m6\u001b[39m, \u001b[32m7\u001b[39m)\n",
       "\u001b[36mres132_3\u001b[39m: \u001b[32mMatriz\u001b[39m = \n",
       "10000\n",
       "02000\n",
       "00500\n",
       "00060\n",
       "00007"
      ]
     },
     "execution_count": 133,
     "metadata": {},
     "output_type": "execute_result"
    }
   ],
   "source": [
    "object MatrizHelper { //nome do objeto\n",
    "    def matrizIdentidade(tamanho: Int): Matriz = {\n",
    "        var resultado = new Matriz(tamanho, tamanho)\n",
    "        for(i <- 0 to tamanho-1) {\n",
    "            for(j <- 0 to tamanho-1) {\n",
    "                if(i==j) {\n",
    "                    resultado.set(i,j,1)\n",
    "                } else {\n",
    "                    resultado.set(i,j,0)\n",
    "                }\n",
    "            }\n",
    "        }\n",
    "        return resultado\n",
    "    }\n",
    "    \n",
    "    def matrizDiagonal(diagonal: Array[Int]): Matriz  = {\n",
    "        \n",
    "        val tamanho = diagonal.length\n",
    "        print(\"O tamanho do array é: \" + tamanho)\n",
    "        var resultado = new Matriz(tamanho, tamanho)\n",
    "        \n",
    "        \n",
    "        for(i <- 0 to tamanho-1) {\n",
    "            for(j <- 0 to tamanho-1) {\n",
    "                if(i==j) {\n",
    "                    resultado.set(i,j,diagonal(i))\n",
    "                } else {\n",
    "                    resultado.set(i,j,0)\n",
    "                }\n",
    "            }\n",
    "        }\n",
    "        return resultado\n",
    "    }\n",
    "}\n",
    "\n",
    "MatrizHelper.matrizIdentidade(5)\n",
    "\n",
    "val s = Array(1, 2, 5, 6, 7)\n",
    "MatrizHelper.matrizDiagonal(s)\n"
   ]
  },
  {
   "cell_type": "code",
   "execution_count": null,
   "metadata": {},
   "outputs": [],
   "source": []
  }
 ],
 "metadata": {
  "kernelspec": {
   "display_name": "Scala (sources)",
   "language": "scala",
   "name": "scala"
  },
  "language_info": {
   "codemirror_mode": "text/x-scala",
   "file_extension": ".scala",
   "mimetype": "text/x-scala",
   "name": "scala",
   "nbconvert_exporter": "script",
   "version": "2.12.8"
  }
 },
 "nbformat": 4,
 "nbformat_minor": 2
}
